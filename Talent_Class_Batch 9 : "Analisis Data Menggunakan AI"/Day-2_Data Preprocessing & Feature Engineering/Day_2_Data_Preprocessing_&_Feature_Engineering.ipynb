{
  "cells": [
    {
      "cell_type": "markdown",
      "metadata": {
        "id": "view-in-github",
        "colab_type": "text"
      },
      "source": [
        "<a href=\"https://colab.research.google.com/github/Risqi2112/Penelitian/blob/main/Talent_Class_Batch%209%20%3A%20%22Analisis%20Data%20Menggunakan%20AI%22/Day_2_Data_Preprocessing_%26_Feature_Engineering.ipynb\" target=\"_parent\"><img src=\"https://colab.research.google.com/assets/colab-badge.svg\" alt=\"Open In Colab\"/></a>"
      ]
    },
    {
      "cell_type": "raw",
      "metadata": {
        "id": "A9xLCHA1cKTf"
      },
      "source": []
    },
    {
      "cell_type": "code",
      "execution_count": null,
      "metadata": {
        "collapsed": true,
        "id": "F0uHJdMpcKTk"
      },
      "outputs": [],
      "source": [
        "import numpy as np\n",
        "import pandas as pd\n",
        "\n",
        "\n",
        "# for operation 2\n",
        "df2 = pd.read_csv('diabetes_null.csv', na_values=['#NAME?'])"
      ]
    },
    {
      "cell_type": "markdown",
      "metadata": {
        "id": "UVvfhCPxcKT5"
      },
      "source": [
        "# Handling Missing Values"
      ]
    },
    {
      "cell_type": "markdown",
      "metadata": {
        "id": "oZQoX3Z9cKVI"
      },
      "source": [
        "## Delete Row"
      ]
    },
    {
      "cell_type": "code",
      "execution_count": 1,
      "metadata": {
        "id": "c3tHzLMocKVT",
        "outputId": "7054286f-9ecf-47ad-fe0f-8dda0e38371c",
        "colab": {
          "base_uri": "https://localhost:8080/",
          "height": 193
        }
      },
      "outputs": [
        {
          "output_type": "error",
          "ename": "NameError",
          "evalue": "ignored",
          "traceback": [
            "\u001b[0;31m---------------------------------------------------------------------------\u001b[0m",
            "\u001b[0;31mNameError\u001b[0m                                 Traceback (most recent call last)",
            "\u001b[0;32m<ipython-input-1-cac2c610fcc6>\u001b[0m in \u001b[0;36m<cell line: 1>\u001b[0;34m()\u001b[0m\n\u001b[0;32m----> 1\u001b[0;31m \u001b[0mdf1\u001b[0m \u001b[0;34m=\u001b[0m \u001b[0mpd\u001b[0m\u001b[0;34m.\u001b[0m\u001b[0mread_csv\u001b[0m\u001b[0;34m(\u001b[0m\u001b[0;34m'diabetes_null.csv'\u001b[0m\u001b[0;34m,\u001b[0m \u001b[0mna_values\u001b[0m\u001b[0;34m=\u001b[0m\u001b[0;34m[\u001b[0m\u001b[0;34m'#NAME?'\u001b[0m\u001b[0;34m]\u001b[0m\u001b[0;34m)\u001b[0m\u001b[0;34m\u001b[0m\u001b[0;34m\u001b[0m\u001b[0m\n\u001b[0m\u001b[1;32m      2\u001b[0m \u001b[0;31m#YOUR CODE\u001b[0m\u001b[0;34m\u001b[0m\u001b[0;34m\u001b[0m\u001b[0m\n",
            "\u001b[0;31mNameError\u001b[0m: name 'pd' is not defined"
          ]
        }
      ],
      "source": [
        "df1 = pd.read_csv('diabetes_null.csv', na_values=['#NAME?'])\n",
        "#YOUR CODE"
      ]
    },
    {
      "cell_type": "markdown",
      "metadata": {
        "id": "zovSzUAlcKVm"
      },
      "source": [
        "## Fill with mean"
      ]
    },
    {
      "cell_type": "code",
      "execution_count": null,
      "metadata": {
        "id": "LtvXMDTHcKVv"
      },
      "outputs": [],
      "source": [
        "from sklearn.preprocessing import Imputer\n",
        "\n",
        "# Data from excel\n",
        "df1 = pd.read_csv('diabetes_null.csv', na_values=['#NAME?'])\n",
        "\n",
        "#YOUR CODE"
      ]
    },
    {
      "cell_type": "markdown",
      "metadata": {
        "id": "b9cszarUcKWB"
      },
      "source": [
        "## Fill with median"
      ]
    },
    {
      "cell_type": "code",
      "execution_count": null,
      "metadata": {
        "id": "mOsB8rBqcKWG"
      },
      "outputs": [],
      "source": [
        "from sklearn.preprocessing import Imputer\n",
        "\n",
        "# Data from excel\n",
        "df1 = pd.read_csv('diabetes_null.csv', na_values=['#NAME?'])\n",
        "\n",
        "#YOUR CODE"
      ]
    },
    {
      "cell_type": "markdown",
      "metadata": {
        "id": "gLR49tEpcKWK"
      },
      "source": [
        "# Handling Noicy Data"
      ]
    },
    {
      "cell_type": "markdown",
      "metadata": {
        "id": "VPSc41KacKWN"
      },
      "source": [
        "## Function to find outliers"
      ]
    },
    {
      "cell_type": "code",
      "execution_count": null,
      "metadata": {
        "collapsed": true,
        "id": "csKBJS8ZcKWP"
      },
      "outputs": [],
      "source": [
        "def find_outliers_tukey(x):\n",
        "    q1 = x.quantile(.25)\n",
        "    q3 = x.quantile(.75)\n",
        "    iqr = q3 - q1\n",
        "    floor = q1 - 1.5*iqr\n",
        "    ceiling = q3 + 1.5*iqr\n",
        "    outlier_indices = list(x.index[(x < floor) | (x > ceiling)])\n",
        "    outlier_values = list(x[outlier_indices])\n",
        "    return outlier_indices, outlier_values\n"
      ]
    },
    {
      "cell_type": "markdown",
      "metadata": {
        "id": "KKiLWnqJcKWQ"
      },
      "source": [
        "## Outliers Found in each column"
      ]
    },
    {
      "cell_type": "code",
      "execution_count": null,
      "metadata": {
        "id": "gN4kPKImcKWq",
        "outputId": "019bdc60-6847-42ef-d854-9fbb01fc2bbf"
      },
      "outputs": [
        {
          "name": "stdout",
          "output_type": "stream",
          "text": [
            "Outliers for Glucose\n",
            "[]\n",
            "Outliers for Pregnancies\n",
            "[ 14.  14.  15.  17.]\n",
            "Outliers for BloodPressure\n",
            "[ 122.]\n",
            "Outliers for SkinThickness\n",
            "[  1.   1.   1.   1.   1.   2.   2.   2.   2.   2.   2.   2.   2.   2.   2.\n",
            "   2.   2.   2.   3.   3.   3.   3.   3.   3.   3.   3.   3.   3.   3.   3.\n",
            "   3.   3.   3.   3.   3.   3.   3.   3.   3.   3.   3.   3.   3.   3.   3.\n",
            "   4.   4.   4.   4.   4.   4.   4.   4.   4.   4.   4.   4.   4.   4.   4.\n",
            "   4.   5.   5.   5.   6.  48.  48.  48.  48.  49.  49.  49.  51.  52.  52.\n",
            "  54.  54.  56.  63.  99.]\n",
            "Outliers for Insulin\n",
            "[   1.    1.    1.    1.    1.    1.    1.    2.    2.    2.    2.    3.\n",
            "    4.    4.    5.    5.    5.    6.    6.    6.    7.    7.    7.    9.\n",
            "    9.    9.    9.   11.   11.   11.   11.   11.   11.   12.   12.   12.\n",
            "   12.   12.   12.   12.   12.   13.   13.   13.   13.   13.   13.   13.\n",
            "   13.   13.   14.   14.   14.   14.   14.   14.   14.   14.   14.   14.\n",
            "   15.   15.   15.   15.   15.   15.   15.   15.   15.   15.   15.   15.\n",
            "   15.   15.   16.   16.   16.   16.   16.   16.   16.   16.   17.   17.\n",
            "   18.   18.   18.   18.   18.   18.   18.   18.   18.   18.   19.   19.\n",
            "   19.   19.   21.   21.   21.   21.   21.   22.   22.   22.   23.   23.\n",
            "   23.   23.   24.   24.   24.   25.   25.   25.   25.   27.   27.   27.\n",
            "   28.   29.   31.   32.   33.   34.   36.   36.   36.   36.   37.   37.\n",
            "   37.   38.   41.   42.   42.   43.   44.   44.   44.   44.   45.   45.\n",
            "   45.   46.   48.   48.   48.   48.   48.   49.   49.   49.   49.   49.\n",
            "   51.   51.   52.   53.   53.   54.   54.   54.   54.   54.   55.   55.\n",
            "   56.   56.   56.   56.   56.   84.   85.   85.   86.   87.   87.   88.\n",
            "   88.   88.   88.   89.   91.   92.   92.   92.   94.   94.   94.   94.\n",
            "   94.   94.   94.   95.   95.   96.   96.   99.   99.  112.  114.  114.\n",
            "  115.  115.  115.  115.  115.  115.  116.  116.  119.  122.  122.  125.\n",
            "  125.  125.  125.  126.  126.  126.  127.  128.  129.  132.  132.  135.\n",
            "  135.  135.  135.  135.  135.  142.  144.  144.  145.  145.  145.  146.\n",
            "  148.  148.  152.  152.  155.  155.  155.  155.  156.  156.  156.  158.\n",
            "  158.  159.  165.  165.  165.  165.  166.  167.  167.  168.  168.  168.\n",
            "  168.  171.  175.  175.  175.  176.  176.  176.  178.  182.  182.  182.\n",
            "  183.  184.  185.  185.  188.  191.  192.  192.  193.  194.  194.  194.\n",
            "  196.  215.  215.  215.  225.  225.  228.  231.  231.  235.  237.  245.\n",
            "  249.  255.  258.  265.  265.  271.  272.  274.  275.  277.  278.  284.\n",
            "  285.  285.  291.  293.  293.  318.  321.  325.  325.  325.  326.  328.\n",
            "  335.  342.  375.  387.  392.  415.  465.  474.  478.  485.  495.  495.\n",
            "  543.  545.  579.  744.  846.]\n",
            "Outliers for BMI\n",
            "[  2.    2.1   2.4   2.4   2.8   2.8   3.    3.    3.    3.    3.    3.\n",
            "   3.    3.1   3.1   3.1   3.1   3.1   3.1   3.1   3.1   3.1   3.2   3.3\n",
            "   3.4   3.4   3.4   3.4   3.4   3.4   3.4   3.5   3.5   3.5   3.5   3.5\n",
            "   3.5   3.5   3.7   3.8   3.8   3.8   3.8   3.8   3.8   3.8   3.8   3.8\n",
            "   3.9   3.9   3.9   3.9   3.9   4.    4.    4.1   4.2   4.5   4.5   4.5\n",
            "   4.6   4.6   4.6   4.6   4.7   4.8   4.9   4.9   5.   52.3  52.3  52.9\n",
            "  53.2  55.   57.3  59.4  67.1]\n",
            "Outliers for DiabetesPedigreeFunction\n",
            "[ 1.251  1.258  1.268  1.282  1.292  1.318  1.321  1.34   1.353  1.39\n",
            "  1.391  1.394  1.4    1.441  1.461  1.476  1.57   1.6    1.698  1.699\n",
            "  1.72   1.731  1.76   1.781  1.893  1.95   1.96   2.137  2.288  2.329\n",
            "  2.42 ]\n",
            "Outliers for Age\n",
            "[ 62.  62.  62.  62.  63.  63.  63.  63.  64.  65.  65.  65.  66.  66.  66.\n",
            "  66.  67.  67.  67.  68.  69.  69.  72.  81.]\n"
          ]
        }
      ],
      "source": [
        "glucose_indices, glucose_values = find_outliers_tukey(df1['Glucose'])\n",
        "print(\"Outliers for Glucose\")\n",
        "print(np.sort(glucose_values))\n",
        "\n",
        "print(\"Outliers for Pregnancies\")\n",
        "pr_indices, pr_values = find_outliers_tukey(df1['Pregnancies'])\n",
        "print(np.sort(pr_values))\n",
        "\n",
        "print(\"Outliers for BloodPressure\")\n",
        "bp_indices, bp_values = find_outliers_tukey(df1['BloodPressure'])\n",
        "print(np.sort(bp_values))\n",
        "\n",
        "\n",
        "print(\"Outliers for SkinThickness\")\n",
        "st_indices, st_values = find_outliers_tukey(df1['SkinThickness'])\n",
        "print(np.sort(st_values))\n",
        "\n",
        "print(\"Outliers for Insulin\")\n",
        "in_indices, in_values = find_outliers_tukey(df1['Insulin'])\n",
        "print(np.sort(in_values))\n",
        "\n",
        "print(\"Outliers for BMI\")\n",
        "bmi_indices, bmi_values = find_outliers_tukey(df1['BMI'])\n",
        "print(np.sort(bmi_values))\n",
        "\n",
        "print(\"Outliers for DiabetesPedigreeFunction\")\n",
        "dpf_indices, dpf_values = find_outliers_tukey(df1['DiabetesPedigreeFunction'])\n",
        "print(np.sort(dpf_values))\n",
        "\n",
        "print(\"Outliers for Age\")\n",
        "age_indices, age_values = find_outliers_tukey(df1['Age'])\n",
        "print(np.sort(age_values))\n"
      ]
    },
    {
      "cell_type": "markdown",
      "metadata": {
        "id": "u0SV1Na4cKW2"
      },
      "source": [
        "## Replace with min"
      ]
    },
    {
      "cell_type": "code",
      "execution_count": null,
      "metadata": {
        "id": "pvApJ3AfcKW2",
        "outputId": "652f9e49-a8fa-4973-c9a3-bf9b00b6be88"
      },
      "outputs": [
        {
          "name": "stdout",
          "output_type": "stream",
          "text": [
            "   Pregnancies  Glucose  BloodPressure  SkinThickness  Insulin   BMI  \\\n",
            "0          6.0    148.0           72.0           35.0     71.0  33.6   \n",
            "1          1.0     85.0           66.0           29.0     71.0  26.6   \n",
            "2          8.0    183.0           64.0           27.0     71.0  23.3   \n",
            "3          1.0     89.0           66.0           23.0     94.0  28.1   \n",
            "4          0.0    137.0            4.0           35.0    168.0  43.1   \n",
            "\n",
            "   DiabetesPedigreeFunction   Age  Outcome  \n",
            "0                     0.627   5.0      1.0  \n",
            "1                     0.351  31.0      0.0  \n",
            "2                     0.672  32.0      1.0  \n",
            "3                     0.167  21.0      0.0  \n",
            "4                     2.288  33.0      1.0  \n"
          ]
        }
      ],
      "source": [
        "min_in = np.min(df_del['Insulin'])\n",
        "#YOUR CODE\n"
      ]
    }
  ],
  "metadata": {
    "kernelspec": {
      "display_name": "Python 3",
      "language": "python",
      "name": "python3"
    },
    "language_info": {
      "codemirror_mode": {
        "name": "ipython",
        "version": 3
      },
      "file_extension": ".py",
      "mimetype": "text/x-python",
      "name": "python",
      "nbconvert_exporter": "python",
      "pygments_lexer": "ipython3",
      "version": "3.6.2"
    },
    "colab": {
      "provenance": [],
      "include_colab_link": true
    }
  },
  "nbformat": 4,
  "nbformat_minor": 0
}
